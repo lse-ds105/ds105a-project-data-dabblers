{
 "cells": [
  {
   "cell_type": "markdown",
   "metadata": {},
   "source": [
    "# Timeline Visualisation Creation\n",
    "The purpose of this Jupyter Notebook is to create an interactive timeline using Plotly which depicts the key events before, during and after the Gamestop short squeeze."
   ]
  },
  {
   "cell_type": "code",
   "execution_count": 1,
   "metadata": {},
   "outputs": [],
   "source": [
    "import os\n",
    "import json\n",
    "import requests\n",
    "\n",
    "import pandas as pd\n",
    "import plotly.graph_objects as go"
   ]
  },
  {
   "cell_type": "markdown",
   "metadata": {},
   "source": [
    "Loading pickled dataframe"
   ]
  },
  {
   "cell_type": "code",
   "execution_count": 2,
   "metadata": {},
   "outputs": [],
   "source": [
    "pickle_file_path = '../scraping/gme_daily_transformed_df.pkl'\n",
    "gme_daily_transformed_df = pd.read_pickle(pickle_file_path)\n",
    "\n",
    "# Filtering the DataFrame to include only the data from January 2021 to April 2021\n",
    "gme_jan_apr2021_df = gme_daily_transformed_df[(gme_daily_transformed_df['Date'] >= '2021-01-01') & (gme_daily_transformed_df['Date'] <= '2021-04-30')].copy()"
   ]
  },
  {
   "cell_type": "markdown",
   "metadata": {},
   "source": [
    "Creating a new column in the dataframe called 'Event' to store the key events which occured throughout the period"
   ]
  },
  {
   "cell_type": "code",
   "execution_count": 3,
   "metadata": {},
   "outputs": [],
   "source": [
    "gme_jan_apr2021_df['Event'] = pd.NA\n",
    "\n",
    "gme_jan_apr2021_df.reset_index(inplace=True)\n",
    "gme_jan_apr2021_df['Date'] = pd.to_datetime(gme_jan_apr2021_df['Date'])\n",
    "\n",
    "# Adding the events to the DataFrame based on the dates\n",
    "gme_jan_apr2021_df.loc[gme_jan_apr2021_df['Date'] == pd.to_datetime('2021-01-04'), 'Event'] = 'First Trading Day of 2021'\n",
    "gme_jan_apr2021_df.loc[gme_jan_apr2021_df['Date'] == pd.to_datetime('2021-01-11'), 'Event'] = 'New Leaders Appointed'\n",
    "gme_jan_apr2021_df.loc[gme_jan_apr2021_df['Date'] == pd.to_datetime('2021-01-22'), 'Event'] = 'Shares Surge by 50%'\n",
    "gme_jan_apr2021_df.loc[gme_jan_apr2021_df['Date'] == pd.to_datetime('2021-01-27'), 'Event'] = 'Highest Close'\n",
    "gme_jan_apr2021_df.loc[gme_jan_apr2021_df['Date'] == pd.to_datetime('2021-01-28'), 'Event'] = 'Robinhood Restriction'\n",
    "gme_jan_apr2021_df.loc[gme_jan_apr2021_df['Date'] == pd.to_datetime('2021-02-04'), 'Event'] = 'Restrictions Lifted'\n",
    "gme_jan_apr2021_df.loc[gme_jan_apr2021_df['Date'] == pd.to_datetime('2021-02-19'), 'Event'] = 'Post Squeeze Low'\n",
    "gme_jan_apr2021_df.loc[gme_jan_apr2021_df['Date'] == pd.to_datetime('2021-02-24'), 'Event'] = 'Congress Hearing'\n",
    "gme_jan_apr2021_df.loc[gme_jan_apr2021_df['Date'] == pd.to_datetime('2021-03-10'), 'Event'] = 'Post Squeeze High'"
   ]
  },
  {
   "cell_type": "markdown",
   "metadata": {},
   "source": [
    "### Plotting the timeline using Plotly"
   ]
  },
  {
   "cell_type": "code",
   "execution_count": 4,
   "metadata": {},
   "outputs": [],
   "source": [
    "df = gme_jan_apr2021_df\n",
    "\n",
    "fig = go.Figure()\n",
    "\n",
    "# Adding line for stock price\n",
    "fig.add_trace(go.Scatter(\n",
    "    x=df['Date'], \n",
    "    y=df['Close'], \n",
    "    mode='lines+markers',\n",
    "    name='Stock Price',\n",
    "    marker=dict(size=6, color='blue'),\n",
    "    hovertemplate='%{x}: $%{y:.2f}<extra></extra>'\n",
    "))\n",
    "\n",
    "# Offseting to avoid overlap\n",
    "y_offset = (max(df['Close']) - min(df['Close'])) * 0.05\n",
    "\n",
    "annotations = []\n",
    "# Start with the first event below the line and alternate above/below for each subsequent event\n",
    "above = False\n",
    "\n",
    "for index, row in df.iterrows():\n",
    "    if pd.notnull(row['Event']):\n",
    "        triangle_y = row['Close'] + y_offset if above else row['Close'] - y_offset\n",
    "        \n",
    "        # Adding red dot for the event\n",
    "        fig.add_trace(go.Scatter(\n",
    "            x=[row['Date']],\n",
    "            y=[row['Close']],\n",
    "            mode='markers',\n",
    "            marker=dict(size=12, color='red'), \n",
    "            hoverinfo='skip',  \n",
    "            showlegend=False\n",
    "        ))\n",
    "        \n",
    "        # Adding a red triangle for the event\n",
    "        fig.add_trace(go.Scatter(\n",
    "            x=[row['Date']],\n",
    "            y=[triangle_y], \n",
    "            mode='markers',\n",
    "            marker=dict(\n",
    "                symbol='triangle-down' if above else 'triangle-up',\n",
    "                size=16,\n",
    "                color='red'\n",
    "            ),\n",
    "            hoverinfo='skip',\n",
    "            showlegend=False\n",
    "        ))\n",
    "        \n",
    "        text_y = triangle_y + (y_offset / 2 if above else -y_offset / 2)\n",
    "        \n",
    "        # Formatting the annotations\n",
    "        annotations.append(dict(\n",
    "            x=row['Date'],\n",
    "            y=text_y,\n",
    "            xref='x',\n",
    "            yref='y',\n",
    "            text=row['Event'], \n",
    "            showarrow=False,\n",
    "            font=dict(size=10, color='red'),\n",
    "            bgcolor='rgba(255,255,255,0.9)',\n",
    "            borderpad=4,\n",
    "            xanchor='center',\n",
    "            yanchor='bottom' if above else 'top'\n",
    "        ))\n",
    "        \n",
    "        above = not above\n",
    "\n",
    "fig.update_layout(\n",
    "    title={\n",
    "        'text': 'GameStop Stock Surge Timeline',\n",
    "        'y':0.9,\n",
    "        'x':0.5,\n",
    "        'xanchor': 'center',\n",
    "        'yanchor': 'top'},\n",
    "    title_font=dict(size=24),\n",
    "    xaxis_title='Date',\n",
    "    yaxis_title='Stock Price ($)',\n",
    "    xaxis=dict(\n",
    "        rangeslider=dict(visible=True), \n",
    "        type='date'\n",
    "    ),\n",
    "    hovermode='closest',\n",
    "    annotations=annotations\n",
    ")\n",
    "\n",
    "# Saving the plot to the visualisations and docs folders\n",
    "fig.write_html(\"interactive_timeline.html\")\n",
    "fig.write_html(\"../docs/interactive_timeline.html\")\n"
   ]
  }
 ],
 "metadata": {
  "kernelspec": {
   "display_name": "base",
   "language": "python",
   "name": "python3"
  },
  "language_info": {
   "codemirror_mode": {
    "name": "ipython",
    "version": 3
   },
   "file_extension": ".py",
   "mimetype": "text/x-python",
   "name": "python",
   "nbconvert_exporter": "python",
   "pygments_lexer": "ipython3",
   "version": "3.11.5"
  }
 },
 "nbformat": 4,
 "nbformat_minor": 2
}
