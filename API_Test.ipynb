{
 "cells": [
  {
   "cell_type": "code",
   "execution_count": 4,
   "metadata": {},
   "outputs": [
    {
     "name": "stdout",
     "output_type": "stream",
     "text": [
      "{'@context': 'https://project-open-data.cio.gov/v1.1/schema/catalog.jsonld',\n",
      " '@id': 'http://api.census.gov/data/2021/pep/population.json',\n",
      " '@type': 'dcat:Catalog',\n",
      " 'conformsTo': 'https://project-open-data.cio.gov/v1.1/schema',\n",
      " 'dataset': [{'@type': 'dcat:Dataset',\n",
      "              'accessLevel': 'public',\n",
      "              'bureauCode': ['006:07'],\n",
      "              'c_dataset': ['pep', 'population'],\n",
      "              'c_documentationLink': 'https://www.census.gov/developer/',\n",
      "              'c_examplesLink': 'http://api.census.gov/data/2021/pep/population/examples.json',\n",
      "              'c_geographyLink': 'http://api.census.gov/data/2021/pep/population/geography.json',\n",
      "              'c_groupsLink': 'http://api.census.gov/data/2021/pep/population/groups.json',\n",
      "              'c_isAggregate': True,\n",
      "              'c_isAvailable': True,\n",
      "              'c_sorts_url': 'http://api.census.gov/data/2021/pep/population/sorts.json',\n",
      "              'c_tagsLink': 'http://api.census.gov/data/2021/pep/population/tags.json',\n",
      "              'c_variablesLink': 'http://api.census.gov/data/2021/pep/population/variables.json',\n",
      "              'c_vintage': 2021,\n",
      "              'contactPoint': {'fn': 'Coordination, Dissemination, and '\n",
      "                                     'Outreach Branch',\n",
      "                               'hasEmail': 'mailto:POP.PEP.API.list@census.gov'},\n",
      "              'description': 'Annual Population Estimates for the United '\n",
      "                             'States, States, Metropolitan Statistical Areas, '\n",
      "                             'Micropolitan Statistical Areas, Counties, '\n",
      "                             'Incorporated Places, and Minor Civil Divisions; '\n",
      "                             'and for Puerto Rico and Its Municipios // '\n",
      "                             'Source: U.S. Census Bureau, Population Division '\n",
      "                             '// The contents of this file are released on a '\n",
      "                             'rolling basis from December through May. // The '\n",
      "                             'estimates are developed from an April 1, 2020 '\n",
      "                             'base population and may incorporate changes '\n",
      "                             'resulting from the Count Question Resolution '\n",
      "                             'program and/or geographic program revisions. // '\n",
      "                             \"The Office of Management and Budget's \"\n",
      "                             'statistical area delineations for metropolitan, '\n",
      "                             'micropolitan, and combined statistical areas, as '\n",
      "                             'well as metropolitan divisions, are those issued '\n",
      "                             'by that agency. // Current data on births, '\n",
      "                             'deaths, and migration are used to calculate '\n",
      "                             'population change since April 1, 2020. An annual '\n",
      "                             'time series of estimates is produced, beginning '\n",
      "                             'with April 1, 2020 and extending to the vintage '\n",
      "                             'year. The vintage year refers to the final year '\n",
      "                             'of the time series. The reference date for all '\n",
      "                             'estimates is July 1, unless otherwise specified. '\n",
      "                             'With each new issue of estimates, the entire '\n",
      "                             'estimates series is revised. Additional '\n",
      "                             'information, including historical and '\n",
      "                             'intercensal estimates, evaluation estimates, '\n",
      "                             'demographic analysis, research papers, and '\n",
      "                             'methodology is available on website: '\n",
      "                             'https://www.census.gov/programs-surveys/popest.html.',\n",
      "              'distribution': [{'@type': 'dcat:Distribution',\n",
      "                                'accessURL': 'http://api.census.gov/data/2021/pep/population',\n",
      "                                'description': 'API endpoint',\n",
      "                                'format': 'API',\n",
      "                                'mediaType': 'application/json',\n",
      "                                'title': 'API endpoint'}],\n",
      "              'identifier': 'https://api.census.gov/data/id/PEPPOP2021',\n",
      "              'keyword': ['census'],\n",
      "              'license': 'https://creativecommons.org/publicdomain/zero/1.0/',\n",
      "              'modified': '2021-10-13 00:00:00.0',\n",
      "              'programCode': ['006:008'],\n",
      "              'publisher': {'@type': 'org:Organization',\n",
      "                            'name': 'U.S. Census Bureau',\n",
      "                            'subOrganizationOf': {'@type': 'org:Organization',\n",
      "                                                  'name': 'U.S. Department Of '\n",
      "                                                          'Commerce',\n",
      "                                                  'subOrganizationOf': {'@type': 'org:Organization',\n",
      "                                                                        'name': 'U.S. '\n",
      "                                                                                'Government'}}},\n",
      "              'references': ['https://www.census.gov/developers/'],\n",
      "              'title': 'Population Estimates: Population Estimates'}],\n",
      " 'describedBy': 'https://project-open-data.cio.gov/v1.1/schema/catalog.json'}\n"
     ]
    }
   ],
   "source": [
    "import requests\n",
    "from pprint import pprint\n",
    "\n",
    "# API endpoint URL\n",
    "url = 'https://api.census.gov/data/2021/pep/population'\n",
    "\n",
    "# Send the GET request\n",
    "response = requests.get(url)\n",
    "\n",
    "# Check the response status code\n",
    "if response.status_code == 200:\n",
    "    # Parse the JSON response\n",
    "    data = response.json()\n",
    "    pprint(data)\n",
    "else:\n",
    "    pprint(f\"Error: {response.status_code}\")\n"
   ]
  },
  {
   "cell_type": "markdown",
   "metadata": {},
   "source": [
    "https://blogs.worldbank.org/opendata/introducing-wbgapi-new-python-package-accessing-world-bank-data"
   ]
  }
 ],
 "metadata": {
  "kernelspec": {
   "display_name": "base",
   "language": "python",
   "name": "python3"
  },
  "language_info": {
   "codemirror_mode": {
    "name": "ipython",
    "version": 3
   },
   "file_extension": ".py",
   "mimetype": "text/x-python",
   "name": "python",
   "nbconvert_exporter": "python",
   "pygments_lexer": "ipython3",
   "version": "3.11.5"
  }
 },
 "nbformat": 4,
 "nbformat_minor": 2
}
